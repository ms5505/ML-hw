{
 "cells": [
  {
   "cell_type": "markdown",
   "metadata": {},
   "source": [
    "The given dataset comes from musical songs domain. It consists of about 1/2 Million songs from 20th and 21st century. The task is to predict the year the song was released given the musical content of the song.   \n",
    "\n",
    "Using the Adaboost algorithm, I achieved a mean-absolute-error of 6.15 on test data. The best MAE achieved by students in the course was 5.66. The worst was 8.42. \n"
   ]
  },
  {
   "cell_type": "code",
   "execution_count": 1,
   "metadata": {},
   "outputs": [],
   "source": [
    "import scipy.io as sio\n",
    "import numpy as np\n",
    "import pandas as pd\n",
    "import matplotlib.pyplot as plt\n",
    "%matplotlib inline\n",
    "import time\n",
    "from sklearn.model_selection import train_test_split\n",
    "from sklearn.linear_model import LinearRegression\n",
    "from sklearn.linear_model import Lasso\n",
    "from sklearn.linear_model import Ridge\n",
    "from sklearn.linear_model import LassoCV\n",
    "from sklearn.tree import DecisionTreeRegressor\n",
    "from sklearn.ensemble import AdaBoostRegressor\n",
    "from sklearn.metrics import mean_absolute_error\n",
    "import csv"
   ]
  },
  {
   "cell_type": "code",
   "execution_count": 3,
   "metadata": {},
   "outputs": [],
   "source": [
    "df = sio.loadmat('MSdata.mat')"
   ]
  },
  {
   "cell_type": "code",
   "execution_count": 4,
   "metadata": {},
   "outputs": [
    {
     "data": {
      "text/plain": [
       "dict_keys(['trainy', 'trainx', '__header__', 'testx', '__globals__', '__version__'])"
      ]
     },
     "execution_count": 4,
     "metadata": {},
     "output_type": "execute_result"
    }
   ],
   "source": [
    "df.keys()"
   ]
  },
  {
   "cell_type": "code",
   "execution_count": 5,
   "metadata": {},
   "outputs": [],
   "source": [
    "trainx = df.get('trainx')\n",
    "trainy = df.get('trainy')\n",
    "testx = df.get('testx')"
   ]
  },
  {
   "cell_type": "code",
   "execution_count": 6,
   "metadata": {},
   "outputs": [
    {
     "data": {
      "text/plain": [
       "b'MATLAB 5.0 MAT-file, Platform: PCWIN64, Created on: Sun Nov 12 22:59:49 2017'"
      ]
     },
     "execution_count": 6,
     "metadata": {},
     "output_type": "execute_result"
    }
   ],
   "source": [
    "df.get('__header__')"
   ]
  },
  {
   "cell_type": "code",
   "execution_count": 7,
   "metadata": {},
   "outputs": [
    {
     "data": {
      "text/plain": [
       "(463715, 90)"
      ]
     },
     "execution_count": 7,
     "metadata": {},
     "output_type": "execute_result"
    }
   ],
   "source": [
    "trainx.shape"
   ]
  },
  {
   "cell_type": "code",
   "execution_count": 8,
   "metadata": {},
   "outputs": [],
   "source": [
    "train_df = np.concatenate((trainx, trainy), axis = 1)"
   ]
  },
  {
   "cell_type": "code",
   "execution_count": 9,
   "metadata": {},
   "outputs": [],
   "source": [
    "# split into training and test sets\n",
    "X_train, X_test, y_train, y_test = train_test_split(\n",
    "    trainx, trainy, test_size = 0.25, random_state = 0)"
   ]
  },
  {
   "cell_type": "code",
   "execution_count": 10,
   "metadata": {},
   "outputs": [
    {
     "data": {
      "text/plain": [
       "6.800460937515051"
      ]
     },
     "execution_count": 10,
     "metadata": {},
     "output_type": "execute_result"
    }
   ],
   "source": [
    "# Linear regression for training set; no preprocessing\n",
    "\n",
    "regr = LinearRegression()\n",
    "regr.fit(X_train, y_train)\n",
    "y_pred = regr.predict(X_test)\n",
    "mean_absolute_error(y_test, y_pred)"
   ]
  },
  {
   "cell_type": "code",
   "execution_count": 11,
   "metadata": {},
   "outputs": [
    {
     "name": "stdout",
     "output_type": "stream",
     "text": [
      "[6.80046196705905, 6.800471331903435, 6.800568136876168, 6.802258277081394, 6.8350316597582, 7.422104901014987, 7.934186024899633]\n"
     ]
    }
   ],
   "source": [
    "# Lasso regression; no preprocessing\n",
    "\n",
    "# search for optimal hyperparameter\n",
    "alphas = [0.0001, 0.001, 0.01, 0.1, 1, 10, 100]\n",
    "lasso_errors = []\n",
    "\n",
    "for alpha in alphas: \n",
    "    regr_lasso = Lasso(alpha = alpha)\n",
    "    regr_lasso.fit(X_train, y_train)\n",
    "    y_lasso = regr_lasso.predict(X_test)\n",
    "    lasso_errors.append(mean_absolute_error(y_test, y_lasso))\n",
    "\n",
    "print(lasso_errors)"
   ]
  },
  {
   "cell_type": "markdown",
   "metadata": {},
   "source": [
    "Lasso regularization didn't do much better than simple linear regression"
   ]
  },
  {
   "cell_type": "code",
   "execution_count": 12,
   "metadata": {},
   "outputs": [
    {
     "data": {
      "text/plain": [
       "<matplotlib.text.Text at 0x180bfd42e8>"
      ]
     },
     "execution_count": 12,
     "metadata": {},
     "output_type": "execute_result"
    },
    {
     "data": {
      "image/png": "[encoded data removed]",
      "text/plain": [
       "<matplotlib.figure.Figure at 0x1a1cc3b400>"
      ]
     },
     "metadata": {},
     "output_type": "display_data"
    }
   ],
   "source": [
    "alpha_optim=alphas[np.argmax(lasso_errors)]\n",
    "\n",
    "plt.figure(figsize=(10,8))\n",
    "\n",
    "plt.semilogx(alphas, lasso_errors, label='Test')\n",
    "plt.vlines(alpha_optim, plt.ylim()[0], np.max(lasso_errors), color='k',\n",
    "           linewidth=3, label='Optimum on test')\n",
    "plt.legend(loc='lower left')\n",
    "plt.ylim([6, 8])\n",
    "plt.xlabel('Regularization parameter')\n",
    "plt.ylabel('Performance')"
   ]
  },
  {
   "cell_type": "code",
   "execution_count": 33,
   "metadata": {},
   "outputs": [
    {
     "name": "stdout",
     "output_type": "stream",
     "text": [
      "[6.8004609375155605, 6.800460937519738, 6.800460937561922, 6.800460937983665, 6.80046094220086, 6.800460984373035, 6.800461406093775]\n"
     ]
    }
   ],
   "source": [
    "# Ridge regression; no preprocessing\n",
    "\n",
    "alphas = [0.00001, 0.0001, 0.001, 0.01, 0.1, 1, 10]\n",
    "ridge_errors = []\n",
    "\n",
    "for alpha in alphas: \n",
    "    regr_ridge = Ridge(alpha = alpha)\n",
    "    regr_ridge.fit(X_train, y_train)\n",
    "    y_ridge = regr_ridge.predict(X_test)\n",
    "    ridge_errors.append(mean_absolute_error(y_test, y_ridge))\n",
    "\n",
    "print(ridge_errors)"
   ]
  },
  {
   "cell_type": "markdown",
   "metadata": {},
   "source": [
    "Ridge regularization also did not offer any improvement"
   ]
  },
  {
   "cell_type": "code",
   "execution_count": 54,
   "metadata": {},
   "outputs": [
    {
     "name": "stdout",
     "output_type": "stream",
     "text": [
      "5.930560946786395\n",
      "--- 11636.70404291153 seconds ---\n"
     ]
    }
   ],
   "source": [
    "# AdaBoost; no preprocessing\n",
    "\n",
    "start_time = time.time()\n",
    "rng = np.random.RandomState(1)\n",
    "regr_adaboost200 = AdaBoostRegressor(DecisionTreeRegressor(), n_estimators = 100, random_state = rng)\n",
    "regr_adaboost200.fit(X_train, y_train.ravel())\n",
    "y_adaboost = regr_adaboost200.predict(X_test)\n",
    "print(mean_absolute_error(y_test, y_adaboost))\n",
    "end_time = time.time()\n",
    "print(\"--- %s seconds ---\" % (end_time - start_time))"
   ]
  },
  {
   "cell_type": "markdown",
   "metadata": {},
   "source": [
    "Adaboost offered significant improvement in MAE (but took a really long time to run) "
   ]
  },
  {
   "cell_type": "code",
   "execution_count": 64,
   "metadata": {},
   "outputs": [],
   "source": [
    "# produce prediction years based on AdaBoost with 200 estimators\n",
    "test_adaboost200 = regr_adaboost200.predict(testx)"
   ]
  },
  {
   "cell_type": "code",
   "execution_count": 71,
   "metadata": {},
   "outputs": [
    {
     "data": {
      "text/plain": [
       "numpy.int64"
      ]
     },
     "execution_count": 71,
     "metadata": {},
     "output_type": "execute_result"
    }
   ],
   "source": [
    "# AdaBoost 200 prediction\n",
    "\n",
    "test_adaboost200_int = test_adaboost200.astype(np.int64)\n",
    "testy_adaboost = pd.DataFrame({'prediction':test_adaboost200_int})\n",
    "\n",
    "# Save adaboost predictions to csv to be uploaded into Kaggle\n",
    "testy_adaboost.to_csv('testy_adaboost200.csv')"
   ]
  },
  {
   "cell_type": "code",
   "execution_count": 77,
   "metadata": {},
   "outputs": [],
   "source": [
    "testy_adaboost = pd.DataFrame({'dataid': list(range(1, testx.shape[0]+1)), 'prediction':test_adaboost200_int})\n",
    "testy_adaboost.to_csv('testy_adaboost200.csv')"
   ]
  },
  {
   "cell_type": "code",
   "execution_count": 46,
   "metadata": {},
   "outputs": [
    {
     "name": "stdout",
     "output_type": "stream",
     "text": [
      "6.055758265835124\n",
      "--- 3132.78430891037 seconds ---\n"
     ]
    }
   ],
   "source": [
    "# AdaBoost; no preprocessing; default n_estimators = 50\n",
    "\n",
    "start_time = time.time()\n",
    "rng = np.random.RandomState(1)\n",
    "regr_adaboost = AdaBoostRegressor(DecisionTreeRegressor(), random_state = rng)\n",
    "regr_adaboost.fit(X_train, y_train.ravel())\n",
    "y_adaboost = regr_adaboost.predict(X_test)\n",
    "print(mean_absolute_error(y_test, y_adaboost))\n",
    "end_time = time.time()\n",
    "print(\"--- %s seconds ---\" % (end_time - start_time))"
   ]
  },
  {
   "cell_type": "code",
   "execution_count": 35,
   "metadata": {},
   "outputs": [],
   "source": [
    "timbre_avg = trainx[:, :12]\n",
    "timbre_cov = trainx[:, 12:]"
   ]
  }
 ],
 "metadata": {
  "kernelspec": {
   "display_name": "Python [Root]",
   "language": "python",
   "name": "Python [Root]"
  },
  "language_info": {
   "codemirror_mode": {
    "name": "ipython",
    "version": 3
   },
   "file_extension": ".py",
   "mimetype": "text/x-python",
   "name": "python",
   "nbconvert_exporter": "python",
   "pygments_lexer": "ipython3",
   "version": "3.5.2"
  }
 },
 "nbformat": 4,
 "nbformat_minor": 2
}

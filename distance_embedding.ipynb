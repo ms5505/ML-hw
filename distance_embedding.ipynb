{
 "cells": [
  {
   "cell_type": "markdown",
   "metadata": {},
   "source": [
    "Infer locations of 9 US cities from distance data by solving the following optimization problem that finds the embedding of these 9 cities on a 2-dimensional map:"
   ]
  },
  {
   "cell_type": "markdown",
   "metadata": {},
   "source": [
    "$\\text{minimize}_{x_1,...,x_9} \\sum_{i,j}(\\|x_i - x_j\\|-D_{ij})^2$   \n",
    "\n",
    "where $\\sum_{i,j}(\\|x_i - x_j\\|-D_{ij})^2$ denotes the embedding discrepany function"
   ]
  },
  {
   "cell_type": "code",
   "execution_count": 60,
   "metadata": {},
   "outputs": [],
   "source": [
    "import numpy as np\n",
    "import matplotlib.pyplot as plt\n",
    "%matplotlib inline  "
   ]
  },
  {
   "cell_type": "code",
   "execution_count": 92,
   "metadata": {},
   "outputs": [],
   "source": [
    "cities = ['BOS', 'NYC', 'DC', 'MIA', 'CHI', 'SEA', 'SF', 'LA', 'DEN']\n",
    "D = np.array([[0, 206, 429, 1504, 963, 2976, 3095, 2979, 1949], \n",
    "             [206, 0, 233, 1308, 802, 2815, 2934, 2786, 1771], \n",
    "             [429, 233, 0, 1075, 671, 2684, 2799, 2631, 1616], \n",
    "             [1504, 1308, 1075, 0, 1329, 3273, 3053, 2687, 2037], \n",
    "             [963, 802, 671, 1329, 0, 2013, 2142, 2054, 996], \n",
    "             [2976, 2815, 2684, 3273, 2013, 0, 808, 1131, 1307],\n",
    "             [3095, 2934, 2799, 3053, 2142, 808, 0, 379, 1235], \n",
    "             [2979, 2786, 2631, 2687, 2054, 1131, 379, 0, 1059], \n",
    "             [1949, 1771, 1616, 2037, 996, 1307, 1235, 1059, 0]])"
   ]
  },
  {
   "cell_type": "code",
   "execution_count": 93,
   "metadata": {},
   "outputs": [],
   "source": [
    "np.random.seed(123)\n",
    "\n",
    "#2-dimensions because we're looking at pairs of locations\n",
    "x_vals = np.random.multivariate_normal(np.zeros(2), np.identity(2), 9)"
   ]
  },
  {
   "cell_type": "code",
   "execution_count": 95,
   "metadata": {},
   "outputs": [],
   "source": [
    "def discrepancy(x_vals, D):\n",
    "    distanceSqError = 0\n",
    "    for i in range(D.shape[0]):\n",
    "        for j in range(D.shape[0]):\n",
    "            distanceVector = x_vals[i] - x_vals[j]\n",
    "            distance = np.sqrt(np.sum(np.square(distanceVector)))\n",
    "            realDistance = D[i,j]\n",
    "            distanceError = realDistance - distance\n",
    "            distanceSqError += distanceError**2\n",
    "    return distanceSqError"
   ]
  },
  {
   "cell_type": "code",
   "execution_count": 96,
   "metadata": {},
   "outputs": [],
   "source": [
    "def discrepancy_gradient(j, x_vals, D):\n",
    "    current_xj = x_vals[j, :]\n",
    "    dist_xi_xj = np.sqrt(np.sum(np.square(current_xj - x_vals), axis = -1))\n",
    "    weights = 4 * (dist_xi_xj - D[j, :]) / dist_xi_xj\n",
    "    gradientSum = np.zeros_like(current_xj)\n",
    "    for i in range(D.shape[0]):\n",
    "        gradientSum += np.nan_to_num(weights[i] * (current_xj - x_vals[i]))\n",
    "    return gradientSum"
   ]
  },
  {
   "cell_type": "code",
   "execution_count": 97,
   "metadata": {},
   "outputs": [],
   "source": [
    "def update_xj(j, x_vals, D):\n",
    "    prev_xj = x_vals[j, :].copy()\n",
    "    prev_discrepancy = discrepancy(x_vals, D)\n",
    "    rate = 10\n",
    "    discr = discrepancy_gradient(j, x_vals, D)\n",
    "    for i in range(10):\n",
    "        x_vals[j, :] -= rate * discr\n",
    "        cur_discrepancy = discrepancy(x_vals, D)\n",
    "        if cur_discrepancy < prev_discrepancy: \n",
    "            return\n",
    "        else: \n",
    "            x_vals[j, :] = prev_xj\n",
    "            rate *= 0.1     "
   ]
  },
  {
   "cell_type": "code",
   "execution_count": 98,
   "metadata": {},
   "outputs": [
    {
     "name": "stderr",
     "output_type": "stream",
     "text": [
      "/Users/melindasong/anaconda/lib/python3.5/site-packages/ipykernel/__main__.py:4: RuntimeWarning: invalid value encountered in true_divide\n"
     ]
    },
    {
     "data": {
      "image/png": "[encoded data removed]",
      "text/plain": [
       "<matplotlib.figure.Figure at 0x1245c89b0>"
      ]
     },
     "metadata": {},
     "output_type": "display_data"
    }
   ],
   "source": [
    "num_steps = 100\n",
    "\n",
    "for i in range(num_steps):\n",
    "    for j in range(9):\n",
    "        update_xj(j, x_vals, D)\n",
    "\n",
    "plt.scatter(x_vals[:, 0], x_vals[:, 1])\n",
    "for i in range(len(cities)):\n",
    "    plt.text(x_vals[i, 0], x_vals[i, 1], cities[i])\n",
    "plt.show()"
   ]
  },
  {
   "cell_type": "markdown",
   "metadata": {},
   "source": [
    "Output is approximately correct with axis flipped"
   ]
  },
  {
   "cell_type": "code",
   "execution_count": null,
   "metadata": {},
   "outputs": [],
   "source": []
  }
 ],
 "metadata": {
  "kernelspec": {
   "display_name": "Python [Root]",
   "language": "python",
   "name": "Python [Root]"
  },
  "language_info": {
   "codemirror_mode": {
    "name": "ipython",
    "version": 3
   },
   "file_extension": ".py",
   "mimetype": "text/x-python",
   "name": "python",
   "nbconvert_exporter": "python",
   "pygments_lexer": "ipython3",
   "version": "3.5.2"
  }
 },
 "nbformat": 4,
 "nbformat_minor": 2
}
